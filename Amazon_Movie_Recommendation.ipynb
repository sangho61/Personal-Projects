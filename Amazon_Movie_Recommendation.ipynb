{
  "nbformat": 4,
  "nbformat_minor": 0,
  "metadata": {
    "kernelspec": {
      "display_name": "Python 3",
      "language": "python",
      "name": "python3"
    },
    "language_info": {
      "codemirror_mode": {
        "name": "ipython",
        "version": 3
      },
      "file_extension": ".py",
      "mimetype": "text/x-python",
      "name": "python",
      "nbconvert_exporter": "python",
      "pygments_lexer": "ipython3",
      "version": "3.6.8"
    },
    "colab": {
      "name": "Amazon Movie Recommendation.ipynb",
      "provenance": [],
      "include_colab_link": true
    },
    "accelerator": "GPU"
  },
  "cells": [
    {
      "cell_type": "markdown",
      "metadata": {
        "id": "view-in-github",
        "colab_type": "text"
      },
      "source": [
        "<a href=\"https://colab.research.google.com/github/sangho61/Personal-Projects/blob/master/Amazon_Movie_Recommendation.ipynb\" target=\"_parent\"><img src=\"https://colab.research.google.com/assets/colab-badge.svg\" alt=\"Open In Colab\"/></a>"
      ]
    },
    {
      "cell_type": "code",
      "metadata": {
        "colab": {
          "base_uri": "https://localhost:8080/"
        },
        "id": "UlsObKeMp_WC",
        "outputId": "d17cfd82-8c33-41a2-bfc3-5e56e7835b78"
      },
      "source": [
        "!pip install surprise"
      ],
      "execution_count": null,
      "outputs": [
        {
          "output_type": "stream",
          "text": [
            "Collecting surprise\n",
            "  Downloading https://files.pythonhosted.org/packages/61/de/e5cba8682201fcf9c3719a6fdda95693468ed061945493dea2dd37c5618b/surprise-0.1-py2.py3-none-any.whl\n",
            "Collecting scikit-surprise\n",
            "\u001b[?25l  Downloading https://files.pythonhosted.org/packages/97/37/5d334adaf5ddd65da99fc65f6507e0e4599d092ba048f4302fe8775619e8/scikit-surprise-1.1.1.tar.gz (11.8MB)\n",
            "\u001b[K     |████████████████████████████████| 11.8MB 10.9MB/s \n",
            "\u001b[?25hRequirement already satisfied: joblib>=0.11 in /usr/local/lib/python3.6/dist-packages (from scikit-surprise->surprise) (1.0.0)\n",
            "Requirement already satisfied: numpy>=1.11.2 in /usr/local/lib/python3.6/dist-packages (from scikit-surprise->surprise) (1.19.4)\n",
            "Requirement already satisfied: scipy>=1.0.0 in /usr/local/lib/python3.6/dist-packages (from scikit-surprise->surprise) (1.4.1)\n",
            "Requirement already satisfied: six>=1.10.0 in /usr/local/lib/python3.6/dist-packages (from scikit-surprise->surprise) (1.15.0)\n",
            "Building wheels for collected packages: scikit-surprise\n",
            "  Building wheel for scikit-surprise (setup.py) ... \u001b[?25l\u001b[?25hdone\n",
            "  Created wheel for scikit-surprise: filename=scikit_surprise-1.1.1-cp36-cp36m-linux_x86_64.whl size=1618258 sha256=13992c71e97ac7a1bf5d8f0c83519c6927068726ac54e89b2a1b070bcd75f182\n",
            "  Stored in directory: /root/.cache/pip/wheels/78/9c/3d/41b419c9d2aff5b6e2b4c0fc8d25c538202834058f9ed110d0\n",
            "Successfully built scikit-surprise\n",
            "Installing collected packages: scikit-surprise, surprise\n",
            "Successfully installed scikit-surprise-1.1.1 surprise-0.1\n"
          ],
          "name": "stdout"
        }
      ]
    },
    {
      "cell_type": "code",
      "metadata": {
        "id": "san38NMepCPn"
      },
      "source": [
        "import pandas as pd\n",
        "import numpy as np\n",
        "import matplotlib.mlab as mlab\n",
        "\n",
        "# Visualization\n",
        "import matplotlib.pyplot as plt\n",
        "import seaborn as sns\n",
        "\n",
        "# Surprise library for collaborative filtering algorithm\n",
        "from surprise import *\n",
        "from surprise.model_selection import GridSearchCV\n",
        "from surprise.accuracy import rmse, mae, fcp\n",
        "from surprise.model_selection import cross_validate\n",
        "\n",
        "# Others\n",
        "import pickle\n",
        "import json\n",
        "from os import listdir\n"
      ],
      "execution_count": null,
      "outputs": []
    },
    {
      "cell_type": "code",
      "metadata": {
        "colab": {
          "base_uri": "https://localhost:8080/"
        },
        "id": "vF5_b424pCPt",
        "outputId": "9695564a-e3dd-4927-e433-64d1ec8b4253"
      },
      "source": [
        "import sklearn\n",
        "print(sklearn.__version__)"
      ],
      "execution_count": null,
      "outputs": [
        {
          "output_type": "stream",
          "text": [
            "0.22.2.post1\n"
          ],
          "name": "stdout"
        }
      ]
    },
    {
      "cell_type": "code",
      "metadata": {
        "colab": {
          "base_uri": "https://localhost:8080/"
        },
        "id": "F5X31MpdpUJa",
        "outputId": "dd419c72-b5c4-4456-9369-623fbdf213ef"
      },
      "source": [
        "# this project runs on Google Colab\n",
        "from google.colab import drive\n",
        "drive.mount('/content/drive')"
      ],
      "execution_count": null,
      "outputs": [
        {
          "output_type": "stream",
          "text": [
            "Mounted at /content/drive\n"
          ],
          "name": "stdout"
        }
      ]
    },
    {
      "cell_type": "code",
      "metadata": {
        "id": "l4ilB0qRpCPv"
      },
      "source": [
        "#train_df = pd.read_json('reviews.training.json', lines=True)\n",
        "#train_df.to_csv('reviews.train.csv')"
      ],
      "execution_count": null,
      "outputs": []
    },
    {
      "cell_type": "code",
      "metadata": {
        "id": "W-qnRvy1upZP"
      },
      "source": [
        "# load cleaned training data table\n",
        "file_path = '/content/drive/MyDrive/Colab Notebooks/reviews_train_cleaned.csv'\n",
        "train_df = pd.read_csv(file_path, names=[\"reviewerID\", \"asin\", \"overall\"])"
      ],
      "execution_count": null,
      "outputs": []
    },
    {
      "cell_type": "markdown",
      "metadata": {
        "id": "tdYeWfh1pCPv"
      },
      "source": [
        "# Data Exploratory "
      ]
    },
    {
      "cell_type": "code",
      "metadata": {
        "colab": {
          "base_uri": "https://localhost:8080/"
        },
        "id": "Tv-LzZhPpCPv",
        "outputId": "5eae0be5-7cbf-4f8b-fdc3-e9404496e893"
      },
      "source": [
        "print(\"Total ratings: %d\" % (len(train_df)))"
      ],
      "execution_count": null,
      "outputs": [
        {
          "output_type": "stream",
          "text": [
            "Total ratings: 1358026\n"
          ],
          "name": "stdout"
        }
      ]
    },
    {
      "cell_type": "code",
      "metadata": {
        "colab": {
          "base_uri": "https://localhost:8080/",
          "height": 419
        },
        "id": "h2sWpLsrpCPw",
        "outputId": "89bfc5ae-97ec-40ad-b2d6-51b3c6277c73"
      },
      "source": [
        "train_df.sample(n=100)"
      ],
      "execution_count": null,
      "outputs": [
        {
          "output_type": "execute_result",
          "data": {
            "text/html": [
              "<div>\n",
              "<style scoped>\n",
              "    .dataframe tbody tr th:only-of-type {\n",
              "        vertical-align: middle;\n",
              "    }\n",
              "\n",
              "    .dataframe tbody tr th {\n",
              "        vertical-align: top;\n",
              "    }\n",
              "\n",
              "    .dataframe thead th {\n",
              "        text-align: right;\n",
              "    }\n",
              "</style>\n",
              "<table border=\"1\" class=\"dataframe\">\n",
              "  <thead>\n",
              "    <tr style=\"text-align: right;\">\n",
              "      <th></th>\n",
              "      <th>reviewerID</th>\n",
              "      <th>asin</th>\n",
              "      <th>overall</th>\n",
              "    </tr>\n",
              "  </thead>\n",
              "  <tbody>\n",
              "    <tr>\n",
              "      <th>803972</th>\n",
              "      <td>A2VURLCJKLJYC9</td>\n",
              "      <td>B00062IDEW</td>\n",
              "      <td>4</td>\n",
              "    </tr>\n",
              "    <tr>\n",
              "      <th>416737</th>\n",
              "      <td>A233A5MZSFQZ1Z</td>\n",
              "      <td>1558908358</td>\n",
              "      <td>5</td>\n",
              "    </tr>\n",
              "    <tr>\n",
              "      <th>1253293</th>\n",
              "      <td>A3LOQW7Z1CEWA6</td>\n",
              "      <td>B000AARKO4</td>\n",
              "      <td>3</td>\n",
              "    </tr>\n",
              "    <tr>\n",
              "      <th>399339</th>\n",
              "      <td>AY24PALJV97FG</td>\n",
              "      <td>B000VWYJ5Y</td>\n",
              "      <td>4</td>\n",
              "    </tr>\n",
              "    <tr>\n",
              "      <th>527287</th>\n",
              "      <td>A1WUMTJOASEL5F</td>\n",
              "      <td>B000P5FH2Q</td>\n",
              "      <td>4</td>\n",
              "    </tr>\n",
              "    <tr>\n",
              "      <th>...</th>\n",
              "      <td>...</td>\n",
              "      <td>...</td>\n",
              "      <td>...</td>\n",
              "    </tr>\n",
              "    <tr>\n",
              "      <th>802652</th>\n",
              "      <td>A1Q8WW227QVM4H</td>\n",
              "      <td>B004H83IKU</td>\n",
              "      <td>5</td>\n",
              "    </tr>\n",
              "    <tr>\n",
              "      <th>40121</th>\n",
              "      <td>ALIWLDJ50AHLB</td>\n",
              "      <td>B008WCP2GA</td>\n",
              "      <td>4</td>\n",
              "    </tr>\n",
              "    <tr>\n",
              "      <th>720064</th>\n",
              "      <td>A3A64289GZHBQD</td>\n",
              "      <td>0792107683</td>\n",
              "      <td>3</td>\n",
              "    </tr>\n",
              "    <tr>\n",
              "      <th>1085066</th>\n",
              "      <td>A1K3U413WXGDDL</td>\n",
              "      <td>B0060MYMPG</td>\n",
              "      <td>3</td>\n",
              "    </tr>\n",
              "    <tr>\n",
              "      <th>406282</th>\n",
              "      <td>A2UKC6QFG9L5GV</td>\n",
              "      <td>B000BVM1S2</td>\n",
              "      <td>4</td>\n",
              "    </tr>\n",
              "  </tbody>\n",
              "</table>\n",
              "<p>100 rows × 3 columns</p>\n",
              "</div>"
            ],
            "text/plain": [
              "             reviewerID        asin  overall\n",
              "803972   A2VURLCJKLJYC9  B00062IDEW        4\n",
              "416737   A233A5MZSFQZ1Z  1558908358        5\n",
              "1253293  A3LOQW7Z1CEWA6  B000AARKO4        3\n",
              "399339    AY24PALJV97FG  B000VWYJ5Y        4\n",
              "527287   A1WUMTJOASEL5F  B000P5FH2Q        4\n",
              "...                 ...         ...      ...\n",
              "802652   A1Q8WW227QVM4H  B004H83IKU        5\n",
              "40121     ALIWLDJ50AHLB  B008WCP2GA        4\n",
              "720064   A3A64289GZHBQD  0792107683        3\n",
              "1085066  A1K3U413WXGDDL  B0060MYMPG        3\n",
              "406282   A2UKC6QFG9L5GV  B000BVM1S2        4\n",
              "\n",
              "[100 rows x 3 columns]"
            ]
          },
          "metadata": {
            "tags": []
          },
          "execution_count": 9
        }
      ]
    },
    {
      "cell_type": "code",
      "metadata": {
        "colab": {
          "base_uri": "https://localhost:8080/",
          "height": 297
        },
        "id": "8QtGaRX0pCPw",
        "outputId": "501644d9-40e0-4ea3-eb7d-e5ba7da6c4d7"
      },
      "source": [
        "train_df.describe()"
      ],
      "execution_count": null,
      "outputs": [
        {
          "output_type": "execute_result",
          "data": {
            "text/html": [
              "<div>\n",
              "<style scoped>\n",
              "    .dataframe tbody tr th:only-of-type {\n",
              "        vertical-align: middle;\n",
              "    }\n",
              "\n",
              "    .dataframe tbody tr th {\n",
              "        vertical-align: top;\n",
              "    }\n",
              "\n",
              "    .dataframe thead th {\n",
              "        text-align: right;\n",
              "    }\n",
              "</style>\n",
              "<table border=\"1\" class=\"dataframe\">\n",
              "  <thead>\n",
              "    <tr style=\"text-align: right;\">\n",
              "      <th></th>\n",
              "      <th>overall</th>\n",
              "    </tr>\n",
              "  </thead>\n",
              "  <tbody>\n",
              "    <tr>\n",
              "      <th>count</th>\n",
              "      <td>1.358026e+06</td>\n",
              "    </tr>\n",
              "    <tr>\n",
              "      <th>mean</th>\n",
              "      <td>4.110995e+00</td>\n",
              "    </tr>\n",
              "    <tr>\n",
              "      <th>std</th>\n",
              "      <td>1.197396e+00</td>\n",
              "    </tr>\n",
              "    <tr>\n",
              "      <th>min</th>\n",
              "      <td>1.000000e+00</td>\n",
              "    </tr>\n",
              "    <tr>\n",
              "      <th>25%</th>\n",
              "      <td>4.000000e+00</td>\n",
              "    </tr>\n",
              "    <tr>\n",
              "      <th>50%</th>\n",
              "      <td>5.000000e+00</td>\n",
              "    </tr>\n",
              "    <tr>\n",
              "      <th>75%</th>\n",
              "      <td>5.000000e+00</td>\n",
              "    </tr>\n",
              "    <tr>\n",
              "      <th>max</th>\n",
              "      <td>5.000000e+00</td>\n",
              "    </tr>\n",
              "  </tbody>\n",
              "</table>\n",
              "</div>"
            ],
            "text/plain": [
              "            overall\n",
              "count  1.358026e+06\n",
              "mean   4.110995e+00\n",
              "std    1.197396e+00\n",
              "min    1.000000e+00\n",
              "25%    4.000000e+00\n",
              "50%    5.000000e+00\n",
              "75%    5.000000e+00\n",
              "max    5.000000e+00"
            ]
          },
          "metadata": {
            "tags": []
          },
          "execution_count": 10
        }
      ]
    },
    {
      "cell_type": "code",
      "metadata": {
        "colab": {
          "base_uri": "https://localhost:8080/"
        },
        "id": "Uo4XE7QspCPw",
        "outputId": "c334d991-0fdc-4d82-f79c-37ba292af8c9"
      },
      "source": [
        "train_df['asin'].nunique()"
      ],
      "execution_count": null,
      "outputs": [
        {
          "output_type": "execute_result",
          "data": {
            "text/plain": [
              "50050"
            ]
          },
          "metadata": {
            "tags": []
          },
          "execution_count": 11
        }
      ]
    },
    {
      "cell_type": "code",
      "metadata": {
        "colab": {
          "base_uri": "https://localhost:8080/"
        },
        "id": "xozYY7V4pCPx",
        "outputId": "e97c2eaf-ca4e-4e09-9104-af324f8499f8"
      },
      "source": [
        "train_df['reviewerID'].nunique()"
      ],
      "execution_count": null,
      "outputs": [
        {
          "output_type": "execute_result",
          "data": {
            "text/plain": [
              "123952"
            ]
          },
          "metadata": {
            "tags": []
          },
          "execution_count": 12
        }
      ]
    },
    {
      "cell_type": "code",
      "metadata": {
        "colab": {
          "base_uri": "https://localhost:8080/"
        },
        "id": "PzDciJ_2pCPx",
        "outputId": "94cf0451-227a-4f08-aa8d-0e3a21b38784"
      },
      "source": [
        "train_df.dtypes"
      ],
      "execution_count": null,
      "outputs": [
        {
          "output_type": "execute_result",
          "data": {
            "text/plain": [
              "reviewerID    object\n",
              "asin          object\n",
              "overall        int64\n",
              "dtype: object"
            ]
          },
          "metadata": {
            "tags": []
          },
          "execution_count": 13
        }
      ]
    },
    {
      "cell_type": "code",
      "metadata": {
        "colab": {
          "base_uri": "https://localhost:8080/"
        },
        "id": "jMfRrDqrpCPx",
        "outputId": "480221b9-6df3-4f0c-887b-4258a0ef481f"
      },
      "source": [
        "# check if there is any null values in train dataset\n",
        "train_df.isnull().sum()"
      ],
      "execution_count": null,
      "outputs": [
        {
          "output_type": "execute_result",
          "data": {
            "text/plain": [
              "reviewerID    0\n",
              "asin          0\n",
              "overall       0\n",
              "dtype: int64"
            ]
          },
          "metadata": {
            "tags": []
          },
          "execution_count": 14
        }
      ]
    },
    {
      "cell_type": "code",
      "metadata": {
        "colab": {
          "base_uri": "https://localhost:8080/",
          "height": 279
        },
        "id": "o7v3E4HWpCPy",
        "outputId": "3c450aa3-9d24-436d-da03-ef084f571b36"
      },
      "source": [
        "# rating distributions\n",
        "ax = sns.countplot(x=\"overall\",data=train_df)"
      ],
      "execution_count": null,
      "outputs": [
        {
          "output_type": "display_data",
          "data": {
            "image/png": "[encoded data removed]",
            "text/plain": [
              "<Figure size 432x288 with 1 Axes>"
            ]
          },
          "metadata": {
            "tags": [],
            "needs_background": "light"
          }
        }
      ]
    },
    {
      "cell_type": "markdown",
      "metadata": {
        "id": "QPVZCrAgg6H1"
      },
      "source": [
        "- Training dataset includes 1,358,026 ratings, and there are  50050 unique movies and 123952 unique users.\n",
        "- Rating distribution shows users usually rated a movie 4 or 5 when they write a review.\n",
        "- More than 75% of the rating data were 4 or 5 rates."
      ]
    },
    {
      "cell_type": "markdown",
      "metadata": {
        "id": "Vfh9_EQUiyXn"
      },
      "source": [
        "## Number of rated movies per user"
      ]
    },
    {
      "cell_type": "code",
      "metadata": {
        "colab": {
          "base_uri": "https://localhost:8080/",
          "height": 235
        },
        "id": "nMlLdwE6pCPy",
        "outputId": "5779c038-b9f5-4a02-ed22-5c43293371e2"
      },
      "source": [
        "# number of rated movies per user distributions\n",
        "# most of users rated one or two movies? might be skewed\n",
        "ratings_per_user_count = pd.DataFrame(train_df.groupby('reviewerID')['overall'].mean())\n",
        "ratings_per_user_count['ratings_per_user'] = pd.DataFrame(train_df.groupby('reviewerID')['overall'].count())\n",
        "ratings_per_user_count.head()"
      ],
      "execution_count": null,
      "outputs": [
        {
          "output_type": "execute_result",
          "data": {
            "text/html": [
              "<div>\n",
              "<style scoped>\n",
              "    .dataframe tbody tr th:only-of-type {\n",
              "        vertical-align: middle;\n",
              "    }\n",
              "\n",
              "    .dataframe tbody tr th {\n",
              "        vertical-align: top;\n",
              "    }\n",
              "\n",
              "    .dataframe thead th {\n",
              "        text-align: right;\n",
              "    }\n",
              "</style>\n",
              "<table border=\"1\" class=\"dataframe\">\n",
              "  <thead>\n",
              "    <tr style=\"text-align: right;\">\n",
              "      <th></th>\n",
              "      <th>overall</th>\n",
              "      <th>ratings_per_user</th>\n",
              "    </tr>\n",
              "    <tr>\n",
              "      <th>reviewerID</th>\n",
              "      <th></th>\n",
              "      <th></th>\n",
              "    </tr>\n",
              "  </thead>\n",
              "  <tbody>\n",
              "    <tr>\n",
              "      <th>A00295401U6S2UG3RAQSZ</th>\n",
              "      <td>4.00</td>\n",
              "      <td>5</td>\n",
              "    </tr>\n",
              "    <tr>\n",
              "      <th>A00348066Q1WEW5BMESN</th>\n",
              "      <td>5.00</td>\n",
              "      <td>5</td>\n",
              "    </tr>\n",
              "    <tr>\n",
              "      <th>A0040548BPHKXMHH3NTI</th>\n",
              "      <td>3.50</td>\n",
              "      <td>8</td>\n",
              "    </tr>\n",
              "    <tr>\n",
              "      <th>A00438023NNXSDBGXK56L</th>\n",
              "      <td>3.25</td>\n",
              "      <td>4</td>\n",
              "    </tr>\n",
              "    <tr>\n",
              "      <th>A0048168OBFNFN7WW8XC</th>\n",
              "      <td>5.00</td>\n",
              "      <td>7</td>\n",
              "    </tr>\n",
              "  </tbody>\n",
              "</table>\n",
              "</div>"
            ],
            "text/plain": [
              "                       overall  ratings_per_user\n",
              "reviewerID                                      \n",
              "A00295401U6S2UG3RAQSZ     4.00                 5\n",
              "A00348066Q1WEW5BMESN      5.00                 5\n",
              "A0040548BPHKXMHH3NTI      3.50                 8\n",
              "A00438023NNXSDBGXK56L     3.25                 4\n",
              "A0048168OBFNFN7WW8XC      5.00                 7"
            ]
          },
          "metadata": {
            "tags": []
          },
          "execution_count": 16
        }
      ]
    },
    {
      "cell_type": "code",
      "metadata": {
        "colab": {
          "base_uri": "https://localhost:8080/",
          "height": 297
        },
        "id": "1ORqkaPIpCPy",
        "outputId": "96a14cc3-12c5-4c92-c496-acd9fa2b78a2"
      },
      "source": [
        "ratings_per_user_count.describe()"
      ],
      "execution_count": null,
      "outputs": [
        {
          "output_type": "execute_result",
          "data": {
            "text/html": [
              "<div>\n",
              "<style scoped>\n",
              "    .dataframe tbody tr th:only-of-type {\n",
              "        vertical-align: middle;\n",
              "    }\n",
              "\n",
              "    .dataframe tbody tr th {\n",
              "        vertical-align: top;\n",
              "    }\n",
              "\n",
              "    .dataframe thead th {\n",
              "        text-align: right;\n",
              "    }\n",
              "</style>\n",
              "<table border=\"1\" class=\"dataframe\">\n",
              "  <thead>\n",
              "    <tr style=\"text-align: right;\">\n",
              "      <th></th>\n",
              "      <th>overall</th>\n",
              "      <th>ratings_per_user</th>\n",
              "    </tr>\n",
              "  </thead>\n",
              "  <tbody>\n",
              "    <tr>\n",
              "      <th>count</th>\n",
              "      <td>123952.000000</td>\n",
              "      <td>123952.000000</td>\n",
              "    </tr>\n",
              "    <tr>\n",
              "      <th>mean</th>\n",
              "      <td>4.202063</td>\n",
              "      <td>10.956064</td>\n",
              "    </tr>\n",
              "    <tr>\n",
              "      <th>std</th>\n",
              "      <td>0.729453</td>\n",
              "      <td>31.810722</td>\n",
              "    </tr>\n",
              "    <tr>\n",
              "      <th>min</th>\n",
              "      <td>1.000000</td>\n",
              "      <td>1.000000</td>\n",
              "    </tr>\n",
              "    <tr>\n",
              "      <th>25%</th>\n",
              "      <td>3.800000</td>\n",
              "      <td>4.000000</td>\n",
              "    </tr>\n",
              "    <tr>\n",
              "      <th>50%</th>\n",
              "      <td>4.333333</td>\n",
              "      <td>6.000000</td>\n",
              "    </tr>\n",
              "    <tr>\n",
              "      <th>75%</th>\n",
              "      <td>4.800000</td>\n",
              "      <td>9.000000</td>\n",
              "    </tr>\n",
              "    <tr>\n",
              "      <th>max</th>\n",
              "      <td>5.000000</td>\n",
              "      <td>1879.000000</td>\n",
              "    </tr>\n",
              "  </tbody>\n",
              "</table>\n",
              "</div>"
            ],
            "text/plain": [
              "             overall  ratings_per_user\n",
              "count  123952.000000     123952.000000\n",
              "mean        4.202063         10.956064\n",
              "std         0.729453         31.810722\n",
              "min         1.000000          1.000000\n",
              "25%         3.800000          4.000000\n",
              "50%         4.333333          6.000000\n",
              "75%         4.800000          9.000000\n",
              "max         5.000000       1879.000000"
            ]
          },
          "metadata": {
            "tags": []
          },
          "execution_count": 17
        }
      ]
    },
    {
      "cell_type": "code",
      "metadata": {
        "colab": {
          "base_uri": "https://localhost:8080/"
        },
        "id": "Slm8Z3YppCPy",
        "outputId": "57d8f34b-ea7d-4aa6-b843-fea9c339dcf8"
      },
      "source": [
        "# 97 quantile to find the threhold for the outliers\n",
        "ratings_per_user_count.quantile(.97)"
      ],
      "execution_count": null,
      "outputs": [
        {
          "output_type": "execute_result",
          "data": {
            "text/plain": [
              "overall              5.0\n",
              "ratings_per_user    40.0\n",
              "Name: 0.97, dtype: float64"
            ]
          },
          "metadata": {
            "tags": []
          },
          "execution_count": 18
        }
      ]
    },
    {
      "cell_type": "code",
      "metadata": {
        "colab": {
          "base_uri": "https://localhost:8080/",
          "height": 391
        },
        "id": "yFXORAn5pCPz",
        "outputId": "71b73800-671f-40e5-b892-9099e9ce9254"
      },
      "source": [
        "# plot distribution over non outliers\n",
        "plt.xlim(left=0, right = 40)\n",
        "ratings_per_user_count['ratings_per_user'].hist(bins=1500, figsize=[16,6])"
      ],
      "execution_count": null,
      "outputs": [
        {
          "output_type": "execute_result",
          "data": {
            "text/plain": [
              "<matplotlib.axes._subplots.AxesSubplot at 0x7f571d161908>"
            ]
          },
          "metadata": {
            "tags": []
          },
          "execution_count": 19
        },
        {
          "output_type": "display_data",
          "data": {
            "image/png": "[encoded data removed]",
            "text/plain": [
              "<Figure size 1152x432 with 1 Axes>"
            ]
          },
          "metadata": {
            "tags": [],
            "needs_background": "light"
          }
        }
      ]
    },
    {
      "cell_type": "code",
      "metadata": {
        "colab": {
          "base_uri": "https://localhost:8080/",
          "height": 391
        },
        "id": "f1HZwjGDpCPz",
        "outputId": "70b5e5fe-ff16-4a01-f83e-9d967e69308f"
      },
      "source": [
        "# plot distribution over outliers \n",
        "ratings_per_user_count_outliers = ratings_per_user_count[ratings_per_user_count['ratings_per_user'] > 40]\n",
        "ratings_per_user_count_outliers['ratings_per_user'].hist(bins=200, figsize=[16,6])"
      ],
      "execution_count": null,
      "outputs": [
        {
          "output_type": "execute_result",
          "data": {
            "text/plain": [
              "<matplotlib.axes._subplots.AxesSubplot at 0x7f571bceb898>"
            ]
          },
          "metadata": {
            "tags": []
          },
          "execution_count": 20
        },
        {
          "output_type": "display_data",
          "data": {
            "image/png": "[encoded data removed]",
            "text/plain": [
              "<Figure size 1152x432 with 1 Axes>"
            ]
          },
          "metadata": {
            "tags": [],
            "needs_background": "light"
          }
        }
      ]
    },
    {
      "cell_type": "markdown",
      "metadata": {
        "id": "6n-IIWk-iwag"
      },
      "source": [
        "- Users in average rated 11 movies. Usually, users rated about 4~ 9 movies out of 50000 unique movies in the dataset. User who rated the most give ratings to 1879 movies.\n",
        "- The above plot shows that the number of rated movies per user is right-skewed distribution. 97% of users gave ratings below 40 movies.\n",
        "- Considering 50000 unique movies in the datset, this implies that they are a lot of missing data and a user-item matrix is very sparse."
      ]
    },
    {
      "cell_type": "markdown",
      "metadata": {
        "id": "CGJp-VfXkfrg"
      },
      "source": [
        "\n",
        "## Number of ratings per movie"
      ]
    },
    {
      "cell_type": "code",
      "metadata": {
        "colab": {
          "base_uri": "https://localhost:8080/",
          "height": 235
        },
        "id": "ket2P0C6pCPz",
        "outputId": "353be1ef-c07d-49bc-c332-ff9253ac7630"
      },
      "source": [
        "# number of rated users per movie distributions\n",
        "# popular movies will get lots of ratings? might be highly skewed\n",
        "ratings_per_movie_count = pd.DataFrame(train_df.groupby('asin')['overall'].mean())\n",
        "ratings_per_movie_count['ratings_per_movie'] = pd.DataFrame(train_df.groupby('asin')['overall'].count())\n",
        "ratings_per_movie_count.head()"
      ],
      "execution_count": null,
      "outputs": [
        {
          "output_type": "execute_result",
          "data": {
            "text/html": [
              "<div>\n",
              "<style scoped>\n",
              "    .dataframe tbody tr th:only-of-type {\n",
              "        vertical-align: middle;\n",
              "    }\n",
              "\n",
              "    .dataframe tbody tr th {\n",
              "        vertical-align: top;\n",
              "    }\n",
              "\n",
              "    .dataframe thead th {\n",
              "        text-align: right;\n",
              "    }\n",
              "</style>\n",
              "<table border=\"1\" class=\"dataframe\">\n",
              "  <thead>\n",
              "    <tr style=\"text-align: right;\">\n",
              "      <th></th>\n",
              "      <th>overall</th>\n",
              "      <th>ratings_per_movie</th>\n",
              "    </tr>\n",
              "    <tr>\n",
              "      <th>asin</th>\n",
              "      <th></th>\n",
              "      <th></th>\n",
              "    </tr>\n",
              "  </thead>\n",
              "  <tbody>\n",
              "    <tr>\n",
              "      <th>0005019281</th>\n",
              "      <td>4.512195</td>\n",
              "      <td>82</td>\n",
              "    </tr>\n",
              "    <tr>\n",
              "      <th>0005119367</th>\n",
              "      <td>4.767123</td>\n",
              "      <td>73</td>\n",
              "    </tr>\n",
              "    <tr>\n",
              "      <th>0307141985</th>\n",
              "      <td>5.000000</td>\n",
              "      <td>4</td>\n",
              "    </tr>\n",
              "    <tr>\n",
              "      <th>0307142469</th>\n",
              "      <td>4.741935</td>\n",
              "      <td>31</td>\n",
              "    </tr>\n",
              "    <tr>\n",
              "      <th>0307142477</th>\n",
              "      <td>2.600000</td>\n",
              "      <td>5</td>\n",
              "    </tr>\n",
              "  </tbody>\n",
              "</table>\n",
              "</div>"
            ],
            "text/plain": [
              "             overall  ratings_per_movie\n",
              "asin                                   \n",
              "0005019281  4.512195                 82\n",
              "0005119367  4.767123                 73\n",
              "0307141985  5.000000                  4\n",
              "0307142469  4.741935                 31\n",
              "0307142477  2.600000                  5"
            ]
          },
          "metadata": {
            "tags": []
          },
          "execution_count": 21
        }
      ]
    },
    {
      "cell_type": "code",
      "metadata": {
        "colab": {
          "base_uri": "https://localhost:8080/",
          "height": 297
        },
        "id": "2C9h6DPhpCPz",
        "outputId": "fde4b9af-0dc8-4844-b316-26d808413a12"
      },
      "source": [
        "ratings_per_movie_count.describe()"
      ],
      "execution_count": null,
      "outputs": [
        {
          "output_type": "execute_result",
          "data": {
            "text/html": [
              "<div>\n",
              "<style scoped>\n",
              "    .dataframe tbody tr th:only-of-type {\n",
              "        vertical-align: middle;\n",
              "    }\n",
              "\n",
              "    .dataframe tbody tr th {\n",
              "        vertical-align: top;\n",
              "    }\n",
              "\n",
              "    .dataframe thead th {\n",
              "        text-align: right;\n",
              "    }\n",
              "</style>\n",
              "<table border=\"1\" class=\"dataframe\">\n",
              "  <thead>\n",
              "    <tr style=\"text-align: right;\">\n",
              "      <th></th>\n",
              "      <th>overall</th>\n",
              "      <th>ratings_per_movie</th>\n",
              "    </tr>\n",
              "  </thead>\n",
              "  <tbody>\n",
              "    <tr>\n",
              "      <th>count</th>\n",
              "      <td>50050.000000</td>\n",
              "      <td>50050.000000</td>\n",
              "    </tr>\n",
              "    <tr>\n",
              "      <th>mean</th>\n",
              "      <td>4.063479</td>\n",
              "      <td>27.133387</td>\n",
              "    </tr>\n",
              "    <tr>\n",
              "      <th>std</th>\n",
              "      <td>0.687280</td>\n",
              "      <td>58.769294</td>\n",
              "    </tr>\n",
              "    <tr>\n",
              "      <th>min</th>\n",
              "      <td>1.000000</td>\n",
              "      <td>1.000000</td>\n",
              "    </tr>\n",
              "    <tr>\n",
              "      <th>25%</th>\n",
              "      <td>3.700000</td>\n",
              "      <td>6.000000</td>\n",
              "    </tr>\n",
              "    <tr>\n",
              "      <th>50%</th>\n",
              "      <td>4.200000</td>\n",
              "      <td>10.000000</td>\n",
              "    </tr>\n",
              "    <tr>\n",
              "      <th>75%</th>\n",
              "      <td>4.577778</td>\n",
              "      <td>23.000000</td>\n",
              "    </tr>\n",
              "    <tr>\n",
              "      <th>max</th>\n",
              "      <td>5.000000</td>\n",
              "      <td>1785.000000</td>\n",
              "    </tr>\n",
              "  </tbody>\n",
              "</table>\n",
              "</div>"
            ],
            "text/plain": [
              "            overall  ratings_per_movie\n",
              "count  50050.000000       50050.000000\n",
              "mean       4.063479          27.133387\n",
              "std        0.687280          58.769294\n",
              "min        1.000000           1.000000\n",
              "25%        3.700000           6.000000\n",
              "50%        4.200000          10.000000\n",
              "75%        4.577778          23.000000\n",
              "max        5.000000        1785.000000"
            ]
          },
          "metadata": {
            "tags": []
          },
          "execution_count": 22
        }
      ]
    },
    {
      "cell_type": "code",
      "metadata": {
        "colab": {
          "base_uri": "https://localhost:8080/"
        },
        "id": "idlXOx8RpCP0",
        "outputId": "de0f2cf9-98c9-4a52-8855-aac74413ec91"
      },
      "source": [
        "ratings_per_movie_count.quantile(0.97)"
      ],
      "execution_count": null,
      "outputs": [
        {
          "output_type": "execute_result",
          "data": {
            "text/plain": [
              "overall                5.00\n",
              "ratings_per_movie    151.53\n",
              "Name: 0.97, dtype: float64"
            ]
          },
          "metadata": {
            "tags": []
          },
          "execution_count": 23
        }
      ]
    },
    {
      "cell_type": "code",
      "metadata": {
        "colab": {
          "base_uri": "https://localhost:8080/",
          "height": 391
        },
        "id": "GVmP_QjypCP0",
        "outputId": "6b3885a7-e5ef-449d-aee6-cd393ecdd545"
      },
      "source": [
        "# plot distribution over non-outliers\n",
        "plt.xlim(left=0, right = 152)\n",
        "ratings_per_movie_count['ratings_per_movie'].hist(bins=1500, figsize=[16,6])"
      ],
      "execution_count": null,
      "outputs": [
        {
          "output_type": "execute_result",
          "data": {
            "text/plain": [
              "<matplotlib.axes._subplots.AxesSubplot at 0x7f571aa1df28>"
            ]
          },
          "metadata": {
            "tags": []
          },
          "execution_count": 24
        },
        {
          "output_type": "display_data",
          "data": {
            "image/png": "[encoded data removed]",
            "text/plain": [
              "<Figure size 1152x432 with 1 Axes>"
            ]
          },
          "metadata": {
            "tags": [],
            "needs_background": "light"
          }
        }
      ]
    },
    {
      "cell_type": "code",
      "metadata": {
        "colab": {
          "base_uri": "https://localhost:8080/",
          "height": 391
        },
        "id": "46kZm4zvpCP0",
        "outputId": "f7d073d4-59af-46ab-cb09-a6d28ac51cb6"
      },
      "source": [
        "# plot distribution over outliers \n",
        "ratings_per_movie_count_outliers = ratings_per_movie_count[ratings_per_movie_count['ratings_per_movie'] > 152]\n",
        "ratings_per_movie_count_outliers['ratings_per_movie'].hist(bins=200, figsize=[16,6])"
      ],
      "execution_count": null,
      "outputs": [
        {
          "output_type": "execute_result",
          "data": {
            "text/plain": [
              "<matplotlib.axes._subplots.AxesSubplot at 0x7f571d1502e8>"
            ]
          },
          "metadata": {
            "tags": []
          },
          "execution_count": 25
        },
        {
          "output_type": "display_data",
          "data": {
            "image/png": "[encoded data removed]",
            "text/plain": [
              "<Figure size 1152x432 with 1 Axes>"
            ]
          },
          "metadata": {
            "tags": [],
            "needs_background": "light"
          }
        }
      ]
    },
    {
      "cell_type": "markdown",
      "metadata": {
        "id": "CIGw_Bx7kbWn"
      },
      "source": [
        "- Movie in average received 27 ratings. Most movies got ratings from 6 to 23. A movie which got most ratings received 1785 rates.\n",
        "- Ratings per movie distribution is right-skewed as well. 97% of movies only got below 23 ratings. \n",
        "- This indicates that most of movies have missing ratings over users and  a user-item matrix would be a sparse matrix.\n"
      ]
    },
    {
      "cell_type": "markdown",
      "metadata": {
        "id": "4e0pMLF9pCP0"
      },
      "source": [
        "# Data Preprocessing"
      ]
    },
    {
      "cell_type": "code",
      "metadata": {
        "id": "fy7gDh5ypCP0"
      },
      "source": [
        "# Preprocessing. We are using reviewer Id, Movie Id, and Rates\n",
        "def read_reviews(path):\n",
        "    try:\n",
        "        df = pd.read_csv(path)\n",
        "        df = df[['reviewerID', 'asin', 'overall']]\n",
        "        return df\n",
        "    except Exception as error:\n",
        "        print(\"Cannot read file: \"+repr(error))\n",
        "    "
      ],
      "execution_count": null,
      "outputs": []
    },
    {
      "cell_type": "code",
      "metadata": {
        "id": "zEss_aKupCP1"
      },
      "source": [
        "# prepare train dataset\n",
        "#train_df = read_reviews('reviews.train.csv')\n",
        "#train_df.to_csv('reviews_train_cleaned.csv', index=False, header=False)\n",
        "#train_df.head()"
      ],
      "execution_count": null,
      "outputs": []
    },
    {
      "cell_type": "code",
      "metadata": {
        "id": "CtsQx9BvpCP1"
      },
      "source": [
        "# load train dataset\n",
        "file_path = '/content/drive/MyDrive/Colab Notebooks/reviews_train_cleaned.csv'\n",
        "reader = Reader(line_format='user item rating', sep=',')\n",
        "train_data = Dataset.load_from_file(file_path, reader=reader)"
      ],
      "execution_count": null,
      "outputs": []
    },
    {
      "cell_type": "code",
      "metadata": {
        "id": "syehh06TnQIO"
      },
      "source": [
        "# load test dataset\n",
        "file_path = '/content/drive/MyDrive/Colab Notebooks/reviews.dev.csv'\n",
        "dev_df = pd.read_csv(file_path)\n",
        "reader = Reader(line_format='user item rating', sep=',')\n",
        "devdataset_data = Dataset.load_from_df(pd.DataFrame.from_records(dev_df.values), reader=reader).build_full_trainset().build_testset()\n",
        "#test_data = Dataset.load_from_file(file_path, reader=reader).build_full_trainset().build_testset()"
      ],
      "execution_count": null,
      "outputs": []
    },
    {
      "cell_type": "code",
      "metadata": {
        "colab": {
          "base_uri": "https://localhost:8080/",
          "height": 204
        },
        "id": "Xp_H6hzed0_8",
        "outputId": "d631eb3a-efc3-45c6-84da-88e9bc24a6c2"
      },
      "source": [
        "dev_df.head()"
      ],
      "execution_count": null,
      "outputs": [
        {
          "output_type": "execute_result",
          "data": {
            "text/html": [
              "<div>\n",
              "<style scoped>\n",
              "    .dataframe tbody tr th:only-of-type {\n",
              "        vertical-align: middle;\n",
              "    }\n",
              "\n",
              "    .dataframe tbody tr th {\n",
              "        vertical-align: top;\n",
              "    }\n",
              "\n",
              "    .dataframe thead th {\n",
              "        text-align: right;\n",
              "    }\n",
              "</style>\n",
              "<table border=\"1\" class=\"dataframe\">\n",
              "  <thead>\n",
              "    <tr style=\"text-align: right;\">\n",
              "      <th></th>\n",
              "      <th>reviewerID</th>\n",
              "      <th>asin</th>\n",
              "      <th>overall</th>\n",
              "    </tr>\n",
              "  </thead>\n",
              "  <tbody>\n",
              "    <tr>\n",
              "      <th>0</th>\n",
              "      <td>A34DNO6UAH67Z0</td>\n",
              "      <td>B000CDSS22</td>\n",
              "      <td>5</td>\n",
              "    </tr>\n",
              "    <tr>\n",
              "      <th>1</th>\n",
              "      <td>A3APW42N5MRVWT</td>\n",
              "      <td>6305186774</td>\n",
              "      <td>2</td>\n",
              "    </tr>\n",
              "    <tr>\n",
              "      <th>2</th>\n",
              "      <td>A20D9VGCF3P13L</td>\n",
              "      <td>B004LWZW24</td>\n",
              "      <td>5</td>\n",
              "    </tr>\n",
              "    <tr>\n",
              "      <th>3</th>\n",
              "      <td>A82LIVYSX6WZ9</td>\n",
              "      <td>B00001U0DM</td>\n",
              "      <td>3</td>\n",
              "    </tr>\n",
              "    <tr>\n",
              "      <th>4</th>\n",
              "      <td>A3LRKDF5WU4ZDO</td>\n",
              "      <td>B00005JOZI</td>\n",
              "      <td>3</td>\n",
              "    </tr>\n",
              "  </tbody>\n",
              "</table>\n",
              "</div>"
            ],
            "text/plain": [
              "       reviewerID        asin  overall\n",
              "0  A34DNO6UAH67Z0  B000CDSS22        5\n",
              "1  A3APW42N5MRVWT  6305186774        2\n",
              "2  A20D9VGCF3P13L  B004LWZW24        5\n",
              "3   A82LIVYSX6WZ9  B00001U0DM        3\n",
              "4  A3LRKDF5WU4ZDO  B00005JOZI        3"
            ]
          },
          "metadata": {
            "tags": []
          },
          "execution_count": 30
        }
      ]
    },
    {
      "cell_type": "code",
      "metadata": {
        "colab": {
          "base_uri": "https://localhost:8080/",
          "height": 204
        },
        "id": "tR2CgoXNpCP1",
        "outputId": "aa439dab-5433-4787-daa1-6cf7be23d3f5"
      },
      "source": [
        "# For Kaggle project submit\n",
        "# prepare test dataset\n",
        "# test_df = pd.read_csv('/content/drive/MyDrive/Colab Notebooks/reviews.test.unlabeled.csv')\n",
        "# test_df['overall'] = None\n",
        "# test_df.head()"
      ],
      "execution_count": null,
      "outputs": [
        {
          "output_type": "execute_result",
          "data": {
            "text/html": [
              "<div>\n",
              "<style scoped>\n",
              "    .dataframe tbody tr th:only-of-type {\n",
              "        vertical-align: middle;\n",
              "    }\n",
              "\n",
              "    .dataframe tbody tr th {\n",
              "        vertical-align: top;\n",
              "    }\n",
              "\n",
              "    .dataframe thead th {\n",
              "        text-align: right;\n",
              "    }\n",
              "</style>\n",
              "<table border=\"1\" class=\"dataframe\">\n",
              "  <thead>\n",
              "    <tr style=\"text-align: right;\">\n",
              "      <th></th>\n",
              "      <th>datapointID</th>\n",
              "      <th>reviewerID</th>\n",
              "      <th>asin</th>\n",
              "      <th>overall</th>\n",
              "    </tr>\n",
              "  </thead>\n",
              "  <tbody>\n",
              "    <tr>\n",
              "      <th>0</th>\n",
              "      <td>85288b7fd23d48dcb4fd2c9b52a7fa3c</td>\n",
              "      <td>AT79BAVA063DG</td>\n",
              "      <td>B0009UVCQC</td>\n",
              "      <td>None</td>\n",
              "    </tr>\n",
              "    <tr>\n",
              "      <th>1</th>\n",
              "      <td>06f33eaec5bb4c20857cc1f9aee60fb4</td>\n",
              "      <td>A2DAHERP7HYJGO</td>\n",
              "      <td>B002ZG99TA</td>\n",
              "      <td>None</td>\n",
              "    </tr>\n",
              "    <tr>\n",
              "      <th>2</th>\n",
              "      <td>8f14a0d25996472d80a2e745b66f565a</td>\n",
              "      <td>A3NM0RAYSL6PA8</td>\n",
              "      <td>B0001NBNDY</td>\n",
              "      <td>None</td>\n",
              "    </tr>\n",
              "    <tr>\n",
              "      <th>3</th>\n",
              "      <td>50095c59950e444eb2b35afb00009f44</td>\n",
              "      <td>A2KODQS5LJGHF8</td>\n",
              "      <td>6304089767</td>\n",
              "      <td>None</td>\n",
              "    </tr>\n",
              "    <tr>\n",
              "      <th>4</th>\n",
              "      <td>abbbd3cd87d846b0a965ae7ce0ea1aaf</td>\n",
              "      <td>A2ULE2TYILL4BR</td>\n",
              "      <td>B000056MOF</td>\n",
              "      <td>None</td>\n",
              "    </tr>\n",
              "  </tbody>\n",
              "</table>\n",
              "</div>"
            ],
            "text/plain": [
              "                        datapointID      reviewerID        asin overall\n",
              "0  85288b7fd23d48dcb4fd2c9b52a7fa3c   AT79BAVA063DG  B0009UVCQC    None\n",
              "1  06f33eaec5bb4c20857cc1f9aee60fb4  A2DAHERP7HYJGO  B002ZG99TA    None\n",
              "2  8f14a0d25996472d80a2e745b66f565a  A3NM0RAYSL6PA8  B0001NBNDY    None\n",
              "3  50095c59950e444eb2b35afb00009f44  A2KODQS5LJGHF8  6304089767    None\n",
              "4  abbbd3cd87d846b0a965ae7ce0ea1aaf  A2ULE2TYILL4BR  B000056MOF    None"
            ]
          },
          "metadata": {
            "tags": []
          },
          "execution_count": 31
        }
      ]
    },
    {
      "cell_type": "markdown",
      "metadata": {
        "id": "mvRvCGQza2lW"
      },
      "source": [
        "# Baseline - Predict ratings from the movie's average rating\n"
      ]
    },
    {
      "cell_type": "code",
      "metadata": {
        "colab": {
          "base_uri": "https://localhost:8080/",
          "height": 235
        },
        "id": "hAobzOooa1qV",
        "outputId": "fb820330-efa6-4d26-9802-bda6d5f70fbb"
      },
      "source": [
        "# get mean overall from ratings per movie table\n",
        "ratings_per_movie_count.head()"
      ],
      "execution_count": null,
      "outputs": [
        {
          "output_type": "execute_result",
          "data": {
            "text/html": [
              "<div>\n",
              "<style scoped>\n",
              "    .dataframe tbody tr th:only-of-type {\n",
              "        vertical-align: middle;\n",
              "    }\n",
              "\n",
              "    .dataframe tbody tr th {\n",
              "        vertical-align: top;\n",
              "    }\n",
              "\n",
              "    .dataframe thead th {\n",
              "        text-align: right;\n",
              "    }\n",
              "</style>\n",
              "<table border=\"1\" class=\"dataframe\">\n",
              "  <thead>\n",
              "    <tr style=\"text-align: right;\">\n",
              "      <th></th>\n",
              "      <th>overall</th>\n",
              "      <th>ratings_per_movie</th>\n",
              "    </tr>\n",
              "    <tr>\n",
              "      <th>asin</th>\n",
              "      <th></th>\n",
              "      <th></th>\n",
              "    </tr>\n",
              "  </thead>\n",
              "  <tbody>\n",
              "    <tr>\n",
              "      <th>0005019281</th>\n",
              "      <td>4.512195</td>\n",
              "      <td>82</td>\n",
              "    </tr>\n",
              "    <tr>\n",
              "      <th>0005119367</th>\n",
              "      <td>4.767123</td>\n",
              "      <td>73</td>\n",
              "    </tr>\n",
              "    <tr>\n",
              "      <th>0307141985</th>\n",
              "      <td>5.000000</td>\n",
              "      <td>4</td>\n",
              "    </tr>\n",
              "    <tr>\n",
              "      <th>0307142469</th>\n",
              "      <td>4.741935</td>\n",
              "      <td>31</td>\n",
              "    </tr>\n",
              "    <tr>\n",
              "      <th>0307142477</th>\n",
              "      <td>2.600000</td>\n",
              "      <td>5</td>\n",
              "    </tr>\n",
              "  </tbody>\n",
              "</table>\n",
              "</div>"
            ],
            "text/plain": [
              "             overall  ratings_per_movie\n",
              "asin                                   \n",
              "0005019281  4.512195                 82\n",
              "0005119367  4.767123                 73\n",
              "0307141985  5.000000                  4\n",
              "0307142469  4.741935                 31\n",
              "0307142477  2.600000                  5"
            ]
          },
          "metadata": {
            "tags": []
          },
          "execution_count": 36
        }
      ]
    },
    {
      "cell_type": "code",
      "metadata": {
        "colab": {
          "base_uri": "https://localhost:8080/",
          "height": 204
        },
        "id": "0CD2AcZAdyTz",
        "outputId": "74451ff2-b6ce-4708-9c7f-40aa8d035e69"
      },
      "source": [
        "# left join with ratings_per_movie_count table created in EDA\n",
        "dev_baseline_df = dev_df.merge(ratings_per_movie_count, on='asin', how='left')\n",
        "dev_baseline_df.head()"
      ],
      "execution_count": null,
      "outputs": [
        {
          "output_type": "execute_result",
          "data": {
            "text/html": [
              "<div>\n",
              "<style scoped>\n",
              "    .dataframe tbody tr th:only-of-type {\n",
              "        vertical-align: middle;\n",
              "    }\n",
              "\n",
              "    .dataframe tbody tr th {\n",
              "        vertical-align: top;\n",
              "    }\n",
              "\n",
              "    .dataframe thead th {\n",
              "        text-align: right;\n",
              "    }\n",
              "</style>\n",
              "<table border=\"1\" class=\"dataframe\">\n",
              "  <thead>\n",
              "    <tr style=\"text-align: right;\">\n",
              "      <th></th>\n",
              "      <th>reviewerID</th>\n",
              "      <th>asin</th>\n",
              "      <th>overall_x</th>\n",
              "      <th>overall_y</th>\n",
              "      <th>ratings_per_movie</th>\n",
              "    </tr>\n",
              "  </thead>\n",
              "  <tbody>\n",
              "    <tr>\n",
              "      <th>0</th>\n",
              "      <td>A34DNO6UAH67Z0</td>\n",
              "      <td>B000CDSS22</td>\n",
              "      <td>5</td>\n",
              "      <td>4.652174</td>\n",
              "      <td>46.0</td>\n",
              "    </tr>\n",
              "    <tr>\n",
              "      <th>1</th>\n",
              "      <td>A3APW42N5MRVWT</td>\n",
              "      <td>6305186774</td>\n",
              "      <td>2</td>\n",
              "      <td>4.333333</td>\n",
              "      <td>6.0</td>\n",
              "    </tr>\n",
              "    <tr>\n",
              "      <th>2</th>\n",
              "      <td>A20D9VGCF3P13L</td>\n",
              "      <td>B004LWZW24</td>\n",
              "      <td>5</td>\n",
              "      <td>3.919149</td>\n",
              "      <td>235.0</td>\n",
              "    </tr>\n",
              "    <tr>\n",
              "      <th>3</th>\n",
              "      <td>A82LIVYSX6WZ9</td>\n",
              "      <td>B00001U0DM</td>\n",
              "      <td>3</td>\n",
              "      <td>2.444444</td>\n",
              "      <td>9.0</td>\n",
              "    </tr>\n",
              "    <tr>\n",
              "      <th>4</th>\n",
              "      <td>A3LRKDF5WU4ZDO</td>\n",
              "      <td>B00005JOZI</td>\n",
              "      <td>3</td>\n",
              "      <td>4.640000</td>\n",
              "      <td>200.0</td>\n",
              "    </tr>\n",
              "  </tbody>\n",
              "</table>\n",
              "</div>"
            ],
            "text/plain": [
              "       reviewerID        asin  overall_x  overall_y  ratings_per_movie\n",
              "0  A34DNO6UAH67Z0  B000CDSS22          5   4.652174               46.0\n",
              "1  A3APW42N5MRVWT  6305186774          2   4.333333                6.0\n",
              "2  A20D9VGCF3P13L  B004LWZW24          5   3.919149              235.0\n",
              "3   A82LIVYSX6WZ9  B00001U0DM          3   2.444444                9.0\n",
              "4  A3LRKDF5WU4ZDO  B00005JOZI          3   4.640000              200.0"
            ]
          },
          "metadata": {
            "tags": []
          },
          "execution_count": 37
        }
      ]
    },
    {
      "cell_type": "code",
      "metadata": {
        "colab": {
          "base_uri": "https://localhost:8080/"
        },
        "id": "6szRCiU1h3rs",
        "outputId": "2d2cb3fd-a92a-492b-d951-b119e2f956f6"
      },
      "source": [
        "# compute RMSE\n",
        "baseline_rmse = ((dev_baseline_df.overall_x - dev_baseline_df.overall_y) ** 2).mean() ** .5\n",
        "print(\"Baseline RMSE : %f\" % (baseline_rmse))"
      ],
      "execution_count": null,
      "outputs": [
        {
          "output_type": "stream",
          "text": [
            "Baseline RMSE : 1.103958\n"
          ],
          "name": "stdout"
        }
      ]
    },
    {
      "cell_type": "code",
      "metadata": {
        "colab": {
          "base_uri": "https://localhost:8080/",
          "height": 204
        },
        "id": "huJM_rnM1Cm-",
        "outputId": "9a85bb15-4026-47ce-9047-332c426f1f26"
      },
      "source": [
        "# find cases where predicted rating difference from the actual is greater than 1.5\n",
        "baseline_df_error = dev_baseline_df[abs(dev_baseline_df['overall_x']-dev_baseline_df['overall_y']) > 1.5]\n",
        "baseline_df_error.head()"
      ],
      "execution_count": null,
      "outputs": [
        {
          "output_type": "execute_result",
          "data": {
            "text/html": [
              "<div>\n",
              "<style scoped>\n",
              "    .dataframe tbody tr th:only-of-type {\n",
              "        vertical-align: middle;\n",
              "    }\n",
              "\n",
              "    .dataframe tbody tr th {\n",
              "        vertical-align: top;\n",
              "    }\n",
              "\n",
              "    .dataframe thead th {\n",
              "        text-align: right;\n",
              "    }\n",
              "</style>\n",
              "<table border=\"1\" class=\"dataframe\">\n",
              "  <thead>\n",
              "    <tr style=\"text-align: right;\">\n",
              "      <th></th>\n",
              "      <th>reviewerID</th>\n",
              "      <th>asin</th>\n",
              "      <th>overall_x</th>\n",
              "      <th>overall_y</th>\n",
              "      <th>ratings_per_movie</th>\n",
              "    </tr>\n",
              "  </thead>\n",
              "  <tbody>\n",
              "    <tr>\n",
              "      <th>1</th>\n",
              "      <td>A3APW42N5MRVWT</td>\n",
              "      <td>6305186774</td>\n",
              "      <td>2</td>\n",
              "      <td>4.333333</td>\n",
              "      <td>6.0</td>\n",
              "    </tr>\n",
              "    <tr>\n",
              "      <th>4</th>\n",
              "      <td>A3LRKDF5WU4ZDO</td>\n",
              "      <td>B00005JOZI</td>\n",
              "      <td>3</td>\n",
              "      <td>4.640000</td>\n",
              "      <td>200.0</td>\n",
              "    </tr>\n",
              "    <tr>\n",
              "      <th>13</th>\n",
              "      <td>A2TAAFL2CH550H</td>\n",
              "      <td>6304431856</td>\n",
              "      <td>1</td>\n",
              "      <td>3.772727</td>\n",
              "      <td>22.0</td>\n",
              "    </tr>\n",
              "    <tr>\n",
              "      <th>37</th>\n",
              "      <td>A3I7OX03X6KDMN</td>\n",
              "      <td>B0006FFRB6</td>\n",
              "      <td>2</td>\n",
              "      <td>4.289474</td>\n",
              "      <td>38.0</td>\n",
              "    </tr>\n",
              "    <tr>\n",
              "      <th>38</th>\n",
              "      <td>A7FLQ9F7LEB8X</td>\n",
              "      <td>B00005JPS8</td>\n",
              "      <td>3</td>\n",
              "      <td>4.501597</td>\n",
              "      <td>626.0</td>\n",
              "    </tr>\n",
              "  </tbody>\n",
              "</table>\n",
              "</div>"
            ],
            "text/plain": [
              "        reviewerID        asin  overall_x  overall_y  ratings_per_movie\n",
              "1   A3APW42N5MRVWT  6305186774          2   4.333333                6.0\n",
              "4   A3LRKDF5WU4ZDO  B00005JOZI          3   4.640000              200.0\n",
              "13  A2TAAFL2CH550H  6304431856          1   3.772727               22.0\n",
              "37  A3I7OX03X6KDMN  B0006FFRB6          2   4.289474               38.0\n",
              "38   A7FLQ9F7LEB8X  B00005JPS8          3   4.501597              626.0"
            ]
          },
          "metadata": {
            "tags": []
          },
          "execution_count": 101
        }
      ]
    },
    {
      "cell_type": "code",
      "metadata": {
        "colab": {
          "base_uri": "https://localhost:8080/"
        },
        "id": "AOb9sFVm1Rdm",
        "outputId": "7f8f21d8-300a-4fdc-b7b4-a43547916707"
      },
      "source": [
        "print(\"Total cases where predicted rating is off by more than 1.5 %d\" %(baseline_df_error.shape[0]))"
      ],
      "execution_count": null,
      "outputs": [
        {
          "output_type": "execute_result",
          "data": {
            "text/plain": [
              "24781"
            ]
          },
          "metadata": {
            "tags": []
          },
          "execution_count": 102
        }
      ]
    },
    {
      "cell_type": "markdown",
      "metadata": {
        "id": "bxg0E4d1V2Bf"
      },
      "source": [
        "# Base Functions for Models"
      ]
    },
    {
      "cell_type": "code",
      "metadata": {
        "id": "UbdRVIICV--b"
      },
      "source": [
        "def grid_search_algo(data, algorithm, param_grid):\n",
        "  \"\"\" Return grid serach results with best paramter info\n",
        "\n",
        "  Performs GridSearchCV with 3 cross validation using RMSE measures\n",
        "  \"\"\"\n",
        "\n",
        "  gs = GridSearchCV(algorithm, param_grid, measures=['rmse', 'mae'], cv=3, n_jobs=-1)\n",
        "  gs.fit(data)\n",
        "\n",
        "  # best RMSE score\n",
        "  print(gs.best_score['rmse'])\n",
        "\n",
        "  # combination of parameters that gave the best RMSE score\n",
        "  print(gs.best_params['rmse'])\n",
        "\n",
        "  return gs"
      ],
      "execution_count": null,
      "outputs": []
    },
    {
      "cell_type": "markdown",
      "metadata": {
        "id": "uiGKSMNupCP1"
      },
      "source": [
        "# Model 1 - Memory Based Collaborative Filtering -  CoClustering"
      ]
    },
    {
      "cell_type": "code",
      "metadata": {
        "id": "ENeIDxp8pCP2"
      },
      "source": [
        "\n",
        "param_grid = {\n",
        "    'n_cltr_u' : [3, 6, 9, 12, 15],\n",
        "    'n_cltr_i' : [3, 6, 9, 12, 15],\n",
        "    'n_epochs': [40] }\n",
        "#gs = grid_search_algo(train_data, CoClustering, param_grid)\n",
        "print(gs.cv_results)"
      ],
      "execution_count": null,
      "outputs": []
    },
    {
      "cell_type": "markdown",
      "metadata": {
        "id": "DjlvO9rTsh_O"
      },
      "source": [
        "Best fit param: {'n_cltr_u': 3, 'n_cltr_i': 3, 'n_epochs': 40}"
      ]
    },
    {
      "cell_type": "markdown",
      "metadata": {
        "id": "JXB8npQSnIIZ"
      },
      "source": [
        "## Evaluate on the validation data"
      ]
    },
    {
      "cell_type": "markdown",
      "metadata": {
        "id": "rfglX-s9pCP2"
      },
      "source": [
        "# Model 2 - Model Based Collaborative Filtering - SVD"
      ]
    },
    {
      "cell_type": "code",
      "metadata": {
        "id": "rf6rNIYcUxAa"
      },
      "source": [
        "def evaluate_algo(data, algorithm):\n",
        "  \"\"\" Return rmse results for different n latent factors\n",
        "\n",
        "  Evaluate algorithm with RMSE to find n_factors param\n",
        "  \"\"\"\n",
        "  rmse_algorithm = []\n",
        "  #  possible values of n_factors\n",
        "  for k in range(1, 51, 5):\n",
        "      algo = algorithm(n_factors = k)\n",
        "      # 3 folds\n",
        "      algo_perf = cross_validate(algo, data, measures=['RMSE'], cv=3, verbose=True)\n",
        "      rmse_algorithm.append(algo_perf['test_rmse'].mean())\n",
        "  return rmse_algorithm"
      ],
      "execution_count": 1,
      "outputs": []
    },
    {
      "cell_type": "code",
      "metadata": {
        "id": "pokhnNJzpCP2"
      },
      "source": [
        "#print(evaluate_algo(train_data, SVD))"
      ],
      "execution_count": 2,
      "outputs": []
    },
    {
      "cell_type": "code",
      "metadata": {
        "id": "LCK8kHCxWUiR"
      },
      "source": [
        "param_grid = {\n",
        "    # utilize evaluate_algo to find possible values for n_factors param\n",
        "    'n_factors': [10, 15, 20, 25, 30],\n",
        "    'n_epochs': [40],\n",
        "    'lr_all': [0.005, 0.01],\n",
        "    'reg_all': [0.02, 0.1]}\n",
        "#grid_search_algo(train_data, SVD, param_grid)"
      ],
      "execution_count": 3,
      "outputs": []
    },
    {
      "cell_type": "markdown",
      "metadata": {
        "id": "wP-fMLmfs7yB"
      },
      "source": [
        "GridSearch with 3 folds shows that the best fit parameters for SVD is as below.\n",
        "\n",
        "* {'n_factors': 10, 'n_epochs': 40, 'lr_all': 0.005, 'reg_all': 0.1}\n",
        "\n",
        "* RMSE on test folds : 1.015649335610912"
      ]
    },
    {
      "cell_type": "markdown",
      "metadata": {
        "id": "SzL7Juj5frzH"
      },
      "source": [
        "## Evaluate on the validation data"
      ]
    },
    {
      "cell_type": "code",
      "metadata": {
        "colab": {
          "base_uri": "https://localhost:8080/",
          "height": 198
        },
        "id": "O3NNR_sKpCP3",
        "outputId": "80396608-eebf-4903-ee4d-d77dff6043f2"
      },
      "source": [
        "#algo = gs.best_estimator['rmse']\n",
        "algo = SVD(n_factors=10, n_epochs=40, lr_all=0.005, reg_all=0.1)\n",
        "algo.fit(train_data.build_full_trainset())"
      ],
      "execution_count": 4,
      "outputs": [
        {
          "output_type": "error",
          "ename": "NameError",
          "evalue": "ignored",
          "traceback": [
            "\u001b[0;31m---------------------------------------------------------------------------\u001b[0m",
            "\u001b[0;31mNameError\u001b[0m                                 Traceback (most recent call last)",
            "\u001b[0;32m<ipython-input-4-76262f01b59b>\u001b[0m in \u001b[0;36m<module>\u001b[0;34m()\u001b[0m\n\u001b[1;32m      1\u001b[0m \u001b[0;31m#algo = gs.best_estimator['rmse']\u001b[0m\u001b[0;34m\u001b[0m\u001b[0;34m\u001b[0m\u001b[0;34m\u001b[0m\u001b[0m\n\u001b[0;32m----> 2\u001b[0;31m \u001b[0malgo\u001b[0m \u001b[0;34m=\u001b[0m \u001b[0mSVD\u001b[0m\u001b[0;34m(\u001b[0m\u001b[0mn_factors\u001b[0m\u001b[0;34m=\u001b[0m\u001b[0;36m10\u001b[0m\u001b[0;34m,\u001b[0m \u001b[0mn_epochs\u001b[0m\u001b[0;34m=\u001b[0m\u001b[0;36m40\u001b[0m\u001b[0;34m,\u001b[0m \u001b[0mlr_all\u001b[0m\u001b[0;34m=\u001b[0m\u001b[0;36m0.005\u001b[0m\u001b[0;34m,\u001b[0m \u001b[0mreg_all\u001b[0m\u001b[0;34m=\u001b[0m\u001b[0;36m0.1\u001b[0m\u001b[0;34m)\u001b[0m\u001b[0;34m\u001b[0m\u001b[0;34m\u001b[0m\u001b[0m\n\u001b[0m\u001b[1;32m      3\u001b[0m \u001b[0malgo\u001b[0m\u001b[0;34m.\u001b[0m\u001b[0mfit\u001b[0m\u001b[0;34m(\u001b[0m\u001b[0mtrain_data\u001b[0m\u001b[0;34m.\u001b[0m\u001b[0mbuild_full_trainset\u001b[0m\u001b[0;34m(\u001b[0m\u001b[0;34m)\u001b[0m\u001b[0;34m)\u001b[0m\u001b[0;34m\u001b[0m\u001b[0;34m\u001b[0m\u001b[0m\n",
            "\u001b[0;31mNameError\u001b[0m: name 'SVD' is not defined"
          ]
        }
      ]
    },
    {
      "cell_type": "code",
      "metadata": {
        "id": "WHyWaVCJfl1j"
      },
      "source": [
        "print(\"dev shape: %s\" % (dev_df.shape,))\n",
        "# evaluate on the validation data (Dev Data)\n",
        "predictions = algo.test(devdataset_data)\n",
        "\n",
        "# Then compute RMSE\n",
        "svd_dev_rmse = rmse(predictions)"
      ],
      "execution_count": null,
      "outputs": []
    },
    {
      "cell_type": "code",
      "metadata": {
        "id": "xANBAu2NyrtI"
      },
      "source": [
        "dev_errors = []\n",
        "for prediction in predictions:\n",
        "  dev_errors.append(abs(prediction.r_ui - prediction.est))"
      ],
      "execution_count": null,
      "outputs": []
    },
    {
      "cell_type": "code",
      "metadata": {
        "id": "Jr7y2vHq3iQa"
      },
      "source": [
        "svd_dev_errors_df = pd.DataFrame({\"diff\" : dev_errors})\n",
        "svd_dev_errors_df.head()"
      ],
      "execution_count": null,
      "outputs": []
    },
    {
      "cell_type": "code",
      "metadata": {
        "id": "9qFXannF3J2u"
      },
      "source": [
        "#  distributions over error cases\n",
        "svd_dev_errors_df['diff'].hist()"
      ],
      "execution_count": null,
      "outputs": []
    },
    {
      "cell_type": "code",
      "metadata": {
        "id": "RbA1n83N4iui"
      },
      "source": [
        "baseline_df_error = svd_dev_errors_df[svd_dev_errors_df['diff'] > 1.5]\n",
        "baseline_df_error.shape[0]"
      ],
      "execution_count": null,
      "outputs": []
    },
    {
      "cell_type": "markdown",
      "metadata": {
        "id": "g1uVMhvCd8SP"
      },
      "source": [
        "# Discussion and Results"
      ]
    },
    {
      "cell_type": "markdown",
      "metadata": {
        "id": "8j38uS5Id_Pv"
      },
      "source": [
        "- This project recommend movies to user by predicting ratings for a given user and movie set. A well known collaborative filetring algorithm which is SVD using SGD is used to predict missing ratings and results is compared to the baseline which is just average over all ratings for each movie.\n",
        "- SVD Parameters: 10 factors and 3 cross validations\n",
        "- About dataset\n",
        "  - Train data size: 1,358,026, about 50000 unique movies, 123952 unique movies\n",
        "  - Test data size 169,753\n",
        "\n",
        "- Results\n",
        "  - SVD RMSE: 1.000, Baseline RMSE: 1.104\n",
        "  - SVD performed slightly better than the basleine. RMSE indicates that in average both models had about 1 rating off from the actual with having the scale from 1 to 5\n",
        "- Error Analysis\n",
        "  - Cases where the difference between actual and predicted values are greater than 1.5 -> SVD: 20567 cases baseline: 24781 cases\n"
      ]
    },
    {
      "cell_type": "markdown",
      "metadata": {
        "id": "wpzSRxn4eVsi"
      },
      "source": [
        "# Challenges and Future Works\n",
        "- EDA shows that in most cases movies only get ratings from a few users. This aligns with the real world that users only see selected number of movies out of total movies. This can be problem in using SVD since a user-movie matrix is highly sparse and there would be many missing items to find latent factors. In a real case, it would make more sense to build a hybrid model which would use SVD on dense users and popular movies and predict ratings of unpopular movies based on their historical averages or their contents/meta information.\n",
        "- It would be interesting to take account timestamp information in a model"
      ]
    },
    {
      "cell_type": "markdown",
      "metadata": {
        "id": "oj0s8DGWxzvo"
      },
      "source": [
        "# Kaggle submission Test data"
      ]
    },
    {
      "cell_type": "code",
      "metadata": {
        "collapsed": true,
        "id": "FmC5OL-ppCP3"
      },
      "source": [
        "for i, row in test_df.iterrows():\n",
        "    row['overall'] = round(algo.predict(row['reviewerID'], row['asin']).est)\n",
        "test_df.head()\n",
        "header = ['datapointID', 'overall']\n",
        "test_df.to_csv('reviews.test.labeled_v3.csv', columns=header, index=False)"
      ],
      "execution_count": null,
      "outputs": []
    },
    {
      "cell_type": "code",
      "metadata": {
        "id": "ptHsGFuzpCP4"
      },
      "source": [
        "dev_df = pd.read_csv('reviews.dev.csv')\n",
        "preds = []\n",
        "for i, row in dev_df.iterrows():\n",
        "    preds.append(algo.predict(row['reviewerID'], row['asin']).est)\n",
        "\n",
        "dev_df['preds'] = pd.Series(preds, index=dev_df.index)\n",
        "dev_df.head()"
      ],
      "execution_count": null,
      "outputs": []
    }
  ]
}