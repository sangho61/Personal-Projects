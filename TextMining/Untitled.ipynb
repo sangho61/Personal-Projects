{
 "cells": [
  {
   "cell_type": "code",
   "execution_count": 6,
   "metadata": {},
   "outputs": [],
   "source": [
    "import urllib.request\n",
    "import requests\n",
    "import csv\n",
    "from bs4 import BeautifulSoup"
   ]
  },
  {
   "cell_type": "code",
   "execution_count": 2,
   "metadata": {
    "collapsed": true
   },
   "outputs": [],
   "source": [
    "url = 'https://www.data.go.kr/information/qna/index.do?currentPage=1'\n",
    "html = urllib.request.urlopen(url)\n",
    "soupdata = BeautifulSoup(html, 'lxml')\n",
    "tbody=soupdata.find('tbody')"
   ]
  },
  {
   "cell_type": "code",
   "execution_count": 3,
   "metadata": {},
   "outputs": [
    {
     "name": "stdout",
     "output_type": "stream",
     "text": [
      "<tbody>\n",
      "<tr>\n",
      "<td class=\"link-pop\">16445</td>\n",
      "<td class=\"object\" style=\"cursor:pointer; word-break: break-all;\">\n",
      "<a href=\"javascript:detailView('QNA_0000000000016445','Y','pjongjin');\">\r\n",
      "\t\t\t\t\t\t\t\t\t\t나라장터 계약정보서비스 OPEN-API 조회구분 관련 문의\r\n",
      "\t\t\t\t\t\t\t\t\t</a>\n",
      "</td>\n",
      "<td>박***</td>\n",
      "<td>2018-01-03</td>\n",
      "<td>\n",
      "<span class=\"finish\">완료</span>\n",
      "</td>\n",
      "</tr>\n",
      "<tr>\n",
      "<td class=\"link-pop\">16444</td>\n",
      "<td class=\"object\" style=\"cursor:pointer; word-break: break-all;\">\n",
      "<a href=\"javascript:detailView('QNA_0000000000016444','Y','parangpo');\">\r\n",
      "\t\t\t\t\t\t\t\t\t\t울산시 버스 도착정보 오류 문의\r\n",
      "\t\t\t\t\t\t\t\t\t</a>\n",
      "</td>\n",
      "<td>홍***</td>\n",
      "<td>2018-01-03</td>\n",
      "<td>\n",
      "<span class=\"finish\">완료</span>\n",
      "</td>\n",
      "</tr>\n",
      "<tr>\n",
      "<td class=\"link-pop\">16443</td>\n",
      "<td class=\"object\" style=\"cursor:pointer; word-break: break-all;\">\n",
      "<a href=\"javascript:detailView('QNA_0000000000016443','N','dtmddnjs');\">\r\n",
      "\t\t\t\t\t\t\t\t\t\t데이터가 안나와요\r\n",
      "\t\t\t\t\t\t\t\t\t</a>\n",
      "<img alt=\"비밀글\" src=\"/assets/images/use/sub/screet.png\"/>\n",
      "</td>\n",
      "<td>이***</td>\n",
      "<td>2018-01-03</td>\n",
      "<td>\n",
      "<span class=\"finish\">완료</span>\n",
      "</td>\n",
      "</tr>\n",
      "<tr>\n",
      "<td class=\"link-pop\">16446</td>\n",
      "<td class=\"object\" style=\"cursor:pointer; word-break: break-all;\">\n",
      "<a href=\"javascript:detailView('QNA_0000000000016446','N','mario37156');\">\r\n",
      "\t\t\t\t\t\t\t\t\t\t익스플로러에서 접속하면 오류가 뜨고 안됩니다.\r\n",
      "\t\t\t\t\t\t\t\t\t</a>\n",
      "<img alt=\"비밀글\" src=\"/assets/images/use/sub/screet.png\"/>\n",
      "</td>\n",
      "<td>이***</td>\n",
      "<td>2018-01-03</td>\n",
      "<td>\n",
      "<span class=\"ing\">접수대기</span>\n",
      "</td>\n",
      "</tr>\n",
      "<tr>\n",
      "<td class=\"link-pop\">16442</td>\n",
      "<td class=\"object\" style=\"cursor:pointer; word-break: break-all;\">\n",
      "<a href=\"javascript:detailView('QNA_0000000000016442','N','panteoniq');\">\r\n",
      "\t\t\t\t\t\t\t\t\t\t신동네예보 동네예보조회에 관해서..\r\n",
      "\t\t\t\t\t\t\t\t\t</a>\n",
      "<img alt=\"비밀글\" src=\"/assets/images/use/sub/screet.png\"/>\n",
      "</td>\n",
      "<td>정***</td>\n",
      "<td>2018-01-03</td>\n",
      "<td>\n",
      "<span class=\"finish\">완료</span>\n",
      "</td>\n",
      "</tr>\n",
      "<tr>\n",
      "<td class=\"link-pop\">16434</td>\n",
      "<td class=\"object\" style=\"cursor:pointer; word-break: break-all;\">\n",
      "<a href=\"javascript:detailView('QNA_0000000000016434','N','jinmin888');\">\r\n",
      "\t\t\t\t\t\t\t\t\t\t아파트 전월세 자료 조희\r\n",
      "\t\t\t\t\t\t\t\t\t</a>\n",
      "<img alt=\"비밀글\" src=\"/assets/images/use/sub/screet.png\"/>\n",
      "</td>\n",
      "<td>J******</td>\n",
      "<td>2018-01-01</td>\n",
      "<td>\n",
      "<span class=\"finish\">완료</span>\n",
      "</td>\n",
      "</tr>\n",
      "<tr>\n",
      "<td class=\"link-pop\">16436</td>\n",
      "<td class=\"object\" style=\"cursor:pointer; word-break: break-all;\">\n",
      "<a href=\"javascript:detailView('QNA_0000000000016436','N','in10');\">\r\n",
      "\t\t\t\t\t\t\t\t\t\t자치구 직원용 참고 책자파일을 상업적으로 사용 가능한지?\r\n",
      "\t\t\t\t\t\t\t\t\t</a>\n",
      "<img alt=\"비밀글\" src=\"/assets/images/use/sub/screet.png\"/>\n",
      "</td>\n",
      "<td>전***</td>\n",
      "<td>2018-01-02</td>\n",
      "<td>\n",
      "<span class=\"finish\">완료</span>\n",
      "</td>\n",
      "</tr>\n",
      "<tr>\n",
      "<td class=\"link-pop\">16435</td>\n",
      "<td class=\"object\" style=\"cursor:pointer; word-break: break-all;\">\n",
      "<a href=\"javascript:detailView('QNA_0000000000016435','Y','chemia1');\">\r\n",
      "\t\t\t\t\t\t\t\t\t\t약국정보조회 서비스키\r\n",
      "\t\t\t\t\t\t\t\t\t</a>\n",
      "</td>\n",
      "<td>한***</td>\n",
      "<td>2018-01-02</td>\n",
      "<td>\n",
      "<span class=\"finish\">완료</span>\n",
      "</td>\n",
      "</tr>\n",
      "<tr>\n",
      "<td class=\"link-pop\">16437</td>\n",
      "<td class=\"object\" style=\"cursor:pointer; word-break: break-all;\">\n",
      "<a href=\"javascript:detailView('QNA_0000000000016437','Y','isoup');\">\r\n",
      "\t\t\t\t\t\t\t\t\t\t공공데이터포털 사이트가 역변을 하였군요.\r\n",
      "\t\t\t\t\t\t\t\t\t</a>\n",
      "</td>\n",
      "<td>이***</td>\n",
      "<td>2018-01-02</td>\n",
      "<td>\n",
      "<span class=\"finish\">완료</span>\n",
      "</td>\n",
      "</tr>\n",
      "<tr>\n",
      "<td class=\"link-pop\">16438</td>\n",
      "<td class=\"object\" style=\"cursor:pointer; word-break: break-all;\">\n",
      "<a href=\"javascript:detailView('QNA_0000000000016438','Y','mouseteacher');\">\r\n",
      "\t\t\t\t\t\t\t\t\t\t의료계열쪽 api 가 전부 먹통입니다.\r\n",
      "\t\t\t\t\t\t\t\t\t</a>\n",
      "</td>\n",
      "<td>김***</td>\n",
      "<td>2018-01-02</td>\n",
      "<td>\n",
      "<span class=\"finish\">완료</span>\n",
      "</td>\n",
      "</tr>\n",
      "</tbody>\n"
     ]
    }
   ],
   "source": [
    "print(tbody)"
   ]
  },
  {
   "cell_type": "code",
   "execution_count": 4,
   "metadata": {},
   "outputs": [],
   "source": [
    "a=tbody.find_all('a')"
   ]
  },
  {
   "cell_type": "code",
   "execution_count": 25,
   "metadata": {},
   "outputs": [
    {
     "name": "stdout",
     "output_type": "stream",
     "text": [
      "{'No': ['16445', '16444', '16443', '16446', '16442', '16434', '16436', '16435', '16437', '16438'], 'Title': ['나라장터 계약정보서비스 OPEN-API 조회구분 관련 문의', '울산시 버스 도착정보 오류 문의', '데이터가 안나와요', '익스플로러에서 접속하면 오류가 뜨고 안됩니다.', '신동네예보 동네예보조회에 관해서..', '아파트 전월세 자료 조희', '자치구 직원용 참고 책자파일을 상업적으로 사용 가능한지?', '약국정보조회 서비스키', '공공데이터포털 사이트가 역변을 하였군요.', '의료계열쪽 api 가 전부 먹통입니다.'], 'Writer': ['박***', '홍***', '이***', '이***', '정***', 'J******', '전***', '한***', '이***', '김***'], 'Date': ['2018-01-03', '2018-01-03', '2018-01-03', '2018-01-03', '2018-01-03', '2018-01-01', '2018-01-02', '2018-01-02', '2018-01-02', '2018-01-02'], 'Status': ['완료', '완료', '완료', '접수대기', '완료', '완료', '완료', '완료', '완료', '완료']}\n"
     ]
    }
   ],
   "source": [
    "t1 = list(tbody.stripped_strings)\n",
    "m1 ={'No':[],'Title':[],'Writer':[], 'Date':[], 'Status':[]}\n",
    "for string in range(len(t1)):\n",
    "    if string % 5 == 0:\n",
    "        m1['No'].append(t1[string])\n",
    "    elif string % 5 ==1:\n",
    "        m1['Title'].append(t1[string])\n",
    "    elif string % 5 == 2:\n",
    "        m1['Writer'].append(t1[string])\n",
    "    elif string % 5 == 3:\n",
    "        m1['Date'].append(t1[string])\n",
    "    else:\n",
    "        m1['Status'].append(t1[string])\n",
    "print(m1)"
   ]
  },
  {
   "cell_type": "code",
   "execution_count": 30,
   "metadata": {},
   "outputs": [],
   "source": [
    "def write_csv(text, file_name =\"mining.csv\"):\n",
    "    output = open(file_name, \"w\")\n",
    "    col_name = [\"No\", \"Title\", \"Writer\", \"Date\" ,\"Status\"]\n",
    "    transfer = csv.DictWriter(output, fieldnames = col_name, delimiter=\",\")\n",
    "    transfer.writeheader()\n",
    "    for i in range(len(text['No'])):\n",
    "        transfer.writerow({\"No\":text['No'][i], \"Title\": text['Title'][i], \"Writer\": text['Title'][i], \"Date\": text['Date'][i], \"Status\": text['Status'][i]})\n",
    "    output.close()"
   ]
  },
  {
   "cell_type": "code",
   "execution_count": 31,
   "metadata": {},
   "outputs": [
    {
     "name": "stdout",
     "output_type": "stream",
     "text": [
      "None\n"
     ]
    }
   ],
   "source": [
    "print(write_csv(m1))"
   ]
  },
  {
   "cell_type": "code",
   "execution_count": null,
   "metadata": {
    "collapsed": true
   },
   "outputs": [],
   "source": []
  }
 ],
 "metadata": {
  "kernelspec": {
   "display_name": "Python 3",
   "language": "python",
   "name": "python3"
  },
  "language_info": {
   "codemirror_mode": {
    "name": "ipython",
    "version": 3
   },
   "file_extension": ".py",
   "mimetype": "text/x-python",
   "name": "python",
   "nbconvert_exporter": "python",
   "pygments_lexer": "ipython3",
   "version": "3.6.3"
  }
 },
 "nbformat": 4,
 "nbformat_minor": 2
}
